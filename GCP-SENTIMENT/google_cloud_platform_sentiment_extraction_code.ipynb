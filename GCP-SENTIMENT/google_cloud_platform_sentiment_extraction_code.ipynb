{
 "cells": [
  {
   "cell_type": "code",
   "execution_count": null,
   "metadata": {
    "colab": {
     "base_uri": "https://localhost:8080/",
     "height": 56
    },
    "colab_type": "code",
    "id": "Bv5y9JJYCqhg",
    "outputId": "80bc3921-b4a0-48cd-d0d5-e820fa429844"
   },
   "outputs": [
    {
     "name": "stdout",
     "output_type": "stream",
     "text": [
      "Drive already mounted at /content/drive; to attempt to forcibly remount, call drive.mount(\"/content/drive\", force_remount=True).\n"
     ]
    }
   ],
   "source": [
    "'''\n",
    "The following code will assigne a twitter sentiment value to each twitter tweet.\n",
    "'''\n",
    "from google.cloud import language_v1\n",
    "from google.cloud.language_v1 import enums\n",
    "from google.colab import drive\n",
    "drive.mount('/content/drive')\n",
    "import os\n",
    "import six\n",
    "import pandas as pd\n",
    "#import gcsfs\n",
    "\n",
    "os.environ[\"GOOGLE_APPLICATION_CREDENTIALS\"]=\"/content/drive/My Drive/Files/winter-cocoa-276802-380f683a2113.json\""
   ]
  },
  {
   "cell_type": "code",
   "execution_count": null,
   "metadata": {
    "colab": {},
    "colab_type": "code",
    "id": "yDJjdaIoTXln"
   },
   "outputs": [],
   "source": [
    "file = r'/content/drive/My Drive/Files/sentiment/New/twitter_verizon.csv'\n",
    "df = pd.read_csv(file)\n",
    "df_txt = df['text']"
   ]
  },
  {
   "cell_type": "code",
   "execution_count": null,
   "metadata": {
    "colab": {},
    "colab_type": "code",
    "id": "ldbSpF8VEjnD"
   },
   "outputs": [],
   "source": [
    "def sample_analyze_sentiment(content):\n",
    "\n",
    "    client = language_v1.LanguageServiceClient()\n",
    "\n",
    "    if isinstance(content, six.binary_type):\n",
    "        content = content.decode('utf-8')\n",
    "\n",
    "    type_ = enums.Document.Type.PLAIN_TEXT\n",
    "    document = {'type': type_, 'content': content}\n",
    "    response = client.analyze_sentiment(document)\n",
    "    \n",
    "    sentiment = response.document_sentiment\n",
    "    return sentiment.score"
   ]
  },
  {
   "cell_type": "code",
   "execution_count": null,
   "metadata": {
    "colab": {},
    "colab_type": "code",
    "id": "YuI6JoJAoSUt"
   },
   "outputs": [],
   "source": [
    "scores=[]\n",
    "for txt in df_txt.values:\n",
    "  scores.append(sample_analyze_sentiment(txt))"
   ]
  },
  {
   "cell_type": "code",
   "execution_count": null,
   "metadata": {
    "colab": {},
    "colab_type": "code",
    "id": "htkDoPXoAIjw"
   },
   "outputs": [],
   "source": [
    "df['gcp_score'] = scores\n"
   ]
  },
  {
   "cell_type": "code",
   "execution_count": null,
   "metadata": {
    "colab": {},
    "colab_type": "code",
    "id": "L9QqGOClv2Aj"
   },
   "outputs": [],
   "source": [
    "file_name = r'/content/drive/My Drive/Files/sentiment/New/twitter_verizon_sentiment.csv'\n",
    "df.to_csv(file_name, sep=',', encoding='utf-8')"
   ]
  }
 ],
 "metadata": {
  "colab": {
   "collapsed_sections": [],
   "name": "google_cloud_platform-sentiment-extraction_code.ipynb",
   "provenance": []
  },
  "kernelspec": {
   "display_name": "Python 3",
   "language": "python",
   "name": "python3"
  },
  "language_info": {
   "codemirror_mode": {
    "name": "ipython",
    "version": 3
   },
   "file_extension": ".py",
   "mimetype": "text/x-python",
   "name": "python",
   "nbconvert_exporter": "python",
   "pygments_lexer": "ipython3",
   "version": "3.7.4"
  }
 },
 "nbformat": 4,
 "nbformat_minor": 1
}
