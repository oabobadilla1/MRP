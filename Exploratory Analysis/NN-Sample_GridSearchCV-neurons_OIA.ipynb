{
 "cells": [
  {
   "cell_type": "code",
   "execution_count": null,
   "metadata": {
    "colab": {
     "base_uri": "https://localhost:8080/",
     "height": 104
    },
    "colab_type": "code",
    "executionInfo": {
     "elapsed": 1345,
     "status": "ok",
     "timestamp": 1595003106051,
     "user": {
      "displayName": "Oscar Bobadilla",
      "photoUrl": "https://lh3.googleusercontent.com/a-/AOh14Ggnmb0-WJsBT3sUfAwwPdLqxAIdd3B__TGtBmOggw=s64",
      "userId": "00326088994172822743"
     },
     "user_tz": 240
    },
    "id": "MTWkeS0QXZpC",
    "outputId": "ec33d4cb-6fcd-4e97-f7e7-33824afa4006"
   },
   "outputs": [],
   "source": [
    "import glob\n",
    "import os\n",
    "from google.colab import drive\n",
    "drive.mount('/content/drive')\n",
    "path = r\"/content/drive/My Drive/Colab Notebooks/NN\" \n",
    "all_files = glob.glob(path + \"/*.csv\")\n",
    "all_files\n",
    "'''\n",
    "all_files values would iterate throught the following file names:\n",
    "att_amalgam_day.csv\n",
    "ver_amalgam_day.csv\n",
    "spri_amalgam_day.csv\n",
    "tmo_amalgam_day.csv\n",
    "'''"
   ]
  },
  {
   "cell_type": "code",
   "execution_count": 9,
   "metadata": {
    "colab": {},
    "colab_type": "code",
    "executionInfo": {
     "elapsed": 1547,
     "status": "ok",
     "timestamp": 1595003106291,
     "user": {
      "displayName": "Oscar Bobadilla",
      "photoUrl": "https://lh3.googleusercontent.com/a-/AOh14Ggnmb0-WJsBT3sUfAwwPdLqxAIdd3B__TGtBmOggw=s64",
      "userId": "00326088994172822743"
     },
     "user_tz": 240
    },
    "id": "F8VPcKi8deyE"
   },
   "outputs": [],
   "source": [
    "import pandas as pd\n",
    "def get_col(filename,column):\n",
    "  inputs = ['norm_score','AT&T-US', 'SPRINT-US', 'TMOBILE-US', 'VERIZON-US']\n",
    "  inputs.append(column)\n",
    "  data = pd.read_csv(filename)\n",
    "  return data[inputs]\n",
    "\n",
    "colName = 'Operating Income to Assets'\n",
    "'''\n",
    "colName will be assigned the following values:\n",
    "'Return On Assets', \n",
    "'Return On Sales', \n",
    "'Operating Income to Sales',\n",
    "'Operating Income to Assets', \n",
    "'Operating Epenses to Sales', \n",
    "'Cost of Goods to Sales',\n",
    "'Sellecing, General Administrative Expenses to Sales']\n",
    "'''\n",
    "data = []\n",
    "for csv in all_files:\n",
    "  data.append(get_col(csv,colName))\n",
    "#data[0]"
   ]
  },
  {
   "cell_type": "code",
   "execution_count": 11,
   "metadata": {
    "colab": {},
    "colab_type": "code",
    "executionInfo": {
     "elapsed": 1489,
     "status": "ok",
     "timestamp": 1595003106311,
     "user": {
      "displayName": "Oscar Bobadilla",
      "photoUrl": "https://lh3.googleusercontent.com/a-/AOh14Ggnmb0-WJsBT3sUfAwwPdLqxAIdd3B__TGtBmOggw=s64",
      "userId": "00326088994172822743"
     },
     "user_tz": 240
    },
    "id": "t2zS07b9tyeP"
   },
   "outputs": [],
   "source": [
    "import numpy\n",
    "from keras.models import Sequential\n",
    "from keras.layers import Dense\n",
    "from keras.wrappers.scikit_learn import KerasClassifier\n",
    "from keras.wrappers.scikit_learn import KerasRegressor\n",
    "from sklearn.model_selection import GridSearchCV\n",
    "from sklearn.model_selection import StratifiedKFold \n",
    "import time, os, fnmatch, shutil\n",
    "from sklearn.model_selection import train_test_split\n",
    "\n",
    "numpy.random.seed(7)\n",
    "testSize=0.8\n",
    "cv = 3\n",
    "\n",
    "# Function to create model, required for KerasClassifier\n",
    "def create_model(neurons=15):\n",
    "\t# create model\n",
    "\tmodel = Sequential()\n",
    "\tmodel.add(Dense(neurons, input_dim=5, activation='relu',kernel_initializer='normal'))\n",
    "\tmodel.add(Dense(1))\n",
    "\t# Compile model\n",
    "\tmodel.compile(loss='mse',optimizer='adam',metrics=['accuracy','mae'])\n",
    "\treturn model"
   ]
  },
  {
   "cell_type": "code",
   "execution_count": null,
   "metadata": {
    "colab": {
     "base_uri": "https://localhost:8080/",
     "height": 141
    },
    "colab_type": "code",
    "executionInfo": {
     "elapsed": 14677351,
     "status": "ok",
     "timestamp": 1595017782215,
     "user": {
      "displayName": "Oscar Bobadilla",
      "photoUrl": "https://lh3.googleusercontent.com/a-/AOh14Ggnmb0-WJsBT3sUfAwwPdLqxAIdd3B__TGtBmOggw=s64",
      "userId": "00326088994172822743"
     },
     "user_tz": 240
    },
    "id": "rV4kj1GnRCvM",
    "outputId": "aec3e29b-c7ff-4e53-c817-9f39f9097c1a"
   },
   "outputs": [],
   "source": [
    "for i in range(len(data)):\n",
    "  train, test = train_test_split(data[i], test_size=testSize)\n",
    "  # split into input (X) and output (Y) variables\n",
    "  xTrain = train.loc[:,:'VERIZON-US']\n",
    "  yTrain = train.loc[:,colName:]\n",
    "  xTest = test.loc[:,:'VERIZON-US']\n",
    "  yTest = test.loc[:,colName:]\n",
    "\n",
    "  # create model\n",
    "  model = KerasRegressor(build_fn=create_model,verbose=0)\n",
    "  neurons = [10,15,25,30,40,64]\n",
    "  # define the grid search parameters\n",
    "  batch_size =[5,10,15,25,30]\n",
    "  epochs = [100,150]\n",
    "\n",
    "  param_grid = dict(neurons=neurons, batch_size=batch_size, epochs=epochs)\n",
    "  grid = GridSearchCV(estimator=model, param_grid=param_grid, n_jobs=-1, cv=cv)\n",
    "\n",
    "  grid_result = grid.fit(xTrain, yTrain)\n",
    "  # summarize results\n",
    "  print(\"Best: %f using %s\" % (grid_result.best_score_, grid_result.best_params_))\n",
    "  means = grid_result.cv_results_['mean_test_score']\n",
    "  stds = grid_result.cv_results_['std_test_score']\n",
    "  params = grid_result.cv_results_['params']\n",
    "  #grid_result.cv_results_['param_neurons']\n",
    "\n",
    "  t = time.localtime()\n",
    "  timestamp = time.strftime('%b-%d-%Y_%H%M', t)\n",
    "  tmplst = []\n",
    "  tmplst.append(colName)\n",
    "  tmplst.append(\"Result/Best Score:\" + str(grid_result.best_score_))\n",
    "  tmplst.append(\"Best Parameters:\" + str(grid_result.best_params_))\n",
    "  tmplst.append(\"Parameters Used:\" + str(param_grid))\n",
    "  tmplst.append(\"Cross Validation Folds:\"+ str(cv))\n",
    "  \n",
    "  for mean, stdev, param in zip(means, stds, params):\n",
    "      #print(\"%f (%f) with: %r\" % (mean, stdev, param))\n",
    "      tmplst.append(\"%f (%f) with: %r\" % (mean, stdev, param))\n",
    "  df = pd.DataFrame(tmplst)\n",
    "  filename = r'/content/drive/My Drive/Colab Notebooks/RESULTS/neurons_%s_%s_%s_po.csv'%(colName,timestamp,str(i))\n",
    "  df.to_csv(filename,encoding='utf-8')\n"
   ]
  },
  {
   "cell_type": "markdown",
   "metadata": {
    "colab_type": "text",
    "id": "uu0AsxVerzXs"
   },
   "source": [
    "\n",
    "[Ref.1 -Ch.3 Manning Book: Deep Learning w/Python](https://livebook.manning.com/book/deep-learning-with-python/chapter-3/297)\n",
    "\n",
    "[Ref.2 Tutorial:NN-Python-Keras](https://machinelearningmastery.com/tutorial-first-neural-network-python-keras/)\n",
    "\n",
    "[Ref.3 Adam Optimization for Deep Learning](https://machinelearningmastery.com/adam-optimization-algorithm-for-deep-learning/)\n",
    "\n",
    "[Ref.4 Normalize Columns-Pandas DF](https://stackoverflow.com/questions/26414913/normalize-columns-of-pandas-data-frame)\n",
    "\n",
    "[Ref.5 GridSearch-hyperparameters-keras/](https://machinelearningmastery.com/grid-search-hyperparameters-deep-learning-models-python-keras/)\n",
    "\n",
    "[Ref.6 Making Predictions](https://machinelearningmastery.com/tutorial-first-neural-network-python-keras/)\n",
    "\n",
    "[Ref.7 Regression Prediction](https://machinelearningmastery.com/how-to-make-classification-and-regression-predictions-for-deep-learning-models-in-keras/)\n",
    "\n",
    "[ref.8 Regresson Tutorial](https://machinelearningmastery.com/regression-tutorial-keras-deep-learning-library-python/)\n",
    "\n",
    "[Ref.9 Metrics , Regression Tutorial](https://machinelearningmastery.com/custom-metrics-deep-learning-keras-python/)\n",
    "\n",
    "[Ref.10 StackerOverflow: Perform prediction keraregressor](#https://stackoverflow.com/questions/44132652/keras-how-to-perform-a-prediction-using-kerasregressor)"
   ]
  },
  {
   "cell_type": "code",
   "execution_count": 12,
   "metadata": {
    "colab": {},
    "colab_type": "code",
    "executionInfo": {
     "elapsed": 14677340,
     "status": "ok",
     "timestamp": 1595017782249,
     "user": {
      "displayName": "Oscar Bobadilla",
      "photoUrl": "https://lh3.googleusercontent.com/a-/AOh14Ggnmb0-WJsBT3sUfAwwPdLqxAIdd3B__TGtBmOggw=s64",
      "userId": "00326088994172822743"
     },
     "user_tz": 240
    },
    "id": "LiYrjSYGODsq"
   },
   "outputs": [],
   "source": []
  }
 ],
 "metadata": {
  "colab": {
   "collapsed_sections": [],
   "name": "NN-DAILY_GridSearchCV-neurons_OIA.ipynb",
   "provenance": [
    {
     "file_id": "1TdlstQBGTqSAdIa3fqp7IbEOtoRU4nPs",
     "timestamp": 1594898108205
    },
    {
     "file_id": "1N0kQxO6kFcuzwKmn4G0UVe1yiM_V9gbg",
     "timestamp": 1594898049679
    },
    {
     "file_id": "1rUbJltSnxUVLilAvXwPPe5_Uky6AjTDw",
     "timestamp": 1594897955341
    },
    {
     "file_id": "13swPiTj4Bg4TL6g95EtX2mAWKPNXTGip",
     "timestamp": 1594814191151
    },
    {
     "file_id": "1TUvubju-_ptIFcG1ytF7kPi1B6BuEML-",
     "timestamp": 1594141062738
    },
    {
     "file_id": "15GAoK81ytPWniGc1CYUWVQL7FNqeiUCF",
     "timestamp": 1594080430319
    }
   ]
  },
  "kernelspec": {
   "display_name": "Python 3",
   "language": "python",
   "name": "python3"
  },
  "language_info": {
   "codemirror_mode": {
    "name": "ipython",
    "version": 3
   },
   "file_extension": ".py",
   "mimetype": "text/x-python",
   "name": "python",
   "nbconvert_exporter": "python",
   "pygments_lexer": "ipython3",
   "version": "3.7.4"
  }
 },
 "nbformat": 4,
 "nbformat_minor": 1
}
