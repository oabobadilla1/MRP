{
 "cells": [
  {
   "cell_type": "code",
   "execution_count": null,
   "metadata": {
    "colab": {
     "base_uri": "https://localhost:8080/",
     "height": 332
    },
    "colab_type": "code",
    "executionInfo": {
     "elapsed": 23192,
     "status": "ok",
     "timestamp": 1592513349747,
     "user": {
      "displayName": "Oscar Bobadilla",
      "photoUrl": "https://lh3.googleusercontent.com/a-/AOh14Ggnmb0-WJsBT3sUfAwwPdLqxAIdd3B__TGtBmOggw=s64",
      "userId": "00326088994172822743"
     },
     "user_tz": 240
    },
    "id": "Zr2UeROco3eH",
    "outputId": "7191b182-f9e5-456e-ed66-3959c63d5ea8"
   },
   "outputs": [],
   "source": [
    "!pip install searchtweets\n",
    "from google.cloud import language_v1\n",
    "from google.cloud.language_v1 import enums\n",
    "from google.colab import drive\n",
    "drive.mount('/content/drive')\n",
    "import os\n",
    "import six\n",
    "import pandas as pd\n",
    "\n",
    "os.environ[\"GOOGLE_APPLICATION_CREDENTIALS\"]=\"/content/drive/My Drive/Files/winter-cocoa-276802-380f683a2113.json\""
   ]
  },
  {
   "cell_type": "code",
   "execution_count": null,
   "metadata": {
    "colab": {
     "base_uri": "https://localhost:8080/",
     "height": 558
    },
    "colab_type": "code",
    "executionInfo": {
     "elapsed": 1788,
     "status": "ok",
     "timestamp": 1592514666487,
     "user": {
      "displayName": "Oscar Bobadilla",
      "photoUrl": "https://lh3.googleusercontent.com/a-/AOh14Ggnmb0-WJsBT3sUfAwwPdLqxAIdd3B__TGtBmOggw=s64",
      "userId": "00326088994172822743"
     },
     "user_tz": 240
    },
    "id": "f4PGSApXoqnd",
    "outputId": "0333947b-6a00-4044-e22f-afce317be867"
   },
   "outputs": [],
   "source": [
    "from searchtweets import  gen_rule_payload, load_credentials,collect_results\n",
    "\n",
    "premium_search_args = load_credentials(r\"/content/drive/My Drive/Files/twitter_keys.yaml\", account_type=\"premium\")\n",
    "\n",
    "hash_one = 'to:tmobile service -@TMobileHelp -@TMobileBusiness -@TMobileNews \\\n",
    "-@Starbucks -@JohnLegere -@MetroByTMobile -@TMobilePark \\\n",
    "-tv -home -install -channels -FB -DVR \\\n",
    "-@googlefi -@xfinitymobile -@Walgreens\\\n",
    "-directv -directtv -@directtv -stream -streaming \\\n",
    "-@firstnet -xfinity -carriers -sprint \\\n",
    "-@sprint -@att -@verizon -comcast \\\n",
    "-metro -@comcast -@FilmStruck \\\n",
    "-wifi -wi-fi -cable -modem -internet -dsl -fiber -router -broadband \\\n",
    "-iphone -Galaxy -S8 -S9 -(NOTE 10) -Samsung -Motorola -Android \\\n",
    "-commercial -commercials -promo -@BurgerKing -@xbox -@SamsungMobileUS -@tacobell \\\n",
    "-@nfl -NFL -nfl -nba -NBA -@mlb -playoffs -CBS -CNN -Trump \\\n",
    "-@nature_org -advertising -(fox news) -fox -@iHeartRadio -@LiveNation -@deadpoolmovie \\\n",
    "-@STARZ -HBO -hbomax -@hbomax -@hbo -@XMenMovies -@bookingcom -@dunkindonuts \\\n",
    "-@foxsoccer -@foxtv -@foxnews -@TNTdrama -@netflix \\\n",
    "-@kingjames -@jonasbrothers -@PostMalone -@OnePlus_USA -@costco -@ArianaGrande \\\n",
    "lang:en \\\n",
    "-is:retweet -is:verified -has:images -has:media -has:videos -has:links -has:hashtags'\n",
    "\n",
    "rule = gen_rule_payload(hash_one, results_per_call=500, from_date=\"2011-01-01\", to_date=\"2012-02-07\") \n",
    "\n",
    "print(rule)\n",
    "\n",
    "tweets = collect_results(rule, \n",
    "                         max_results=500,\n",
    "                         result_stream_args=premium_search_args)\n",
    "\n",
    "[print(tweet.all_text) for tweet in tweets[0:10]]\n",
    "\n",
    "#type(tweets)\n",
    "print(len(tweets))\n",
    "df = pd.DataFrame(tweets)\n",
    "list(df)"
   ]
  },
  {
   "cell_type": "code",
   "execution_count": null,
   "metadata": {
    "colab": {},
    "colab_type": "code",
    "executionInfo": {
     "elapsed": 230,
     "status": "ok",
     "timestamp": 1592514669035,
     "user": {
      "displayName": "Oscar Bobadilla",
      "photoUrl": "https://lh3.googleusercontent.com/a-/AOh14Ggnmb0-WJsBT3sUfAwwPdLqxAIdd3B__TGtBmOggw=s64",
      "userId": "00326088994172822743"
     },
     "user_tz": 240
    },
    "id": "cWIF4MuBt8KQ"
   },
   "outputs": [],
   "source": [
    "#Change the order of the columns\n",
    "df = df[['created_at',\n",
    " 'text',\n",
    " 'truncated',\n",
    " 'source',\n",
    " 'id',\n",
    " 'id_str',\n",
    " 'in_reply_to_status_id',\n",
    " 'in_reply_to_status_id_str',\n",
    " 'in_reply_to_user_id',\n",
    " 'in_reply_to_user_id_str',\n",
    " 'in_reply_to_screen_name',\n",
    " 'user',\n",
    " 'geo',\n",
    " 'coordinates',\n",
    " 'place',\n",
    " 'contributors',\n",
    " 'is_quote_status',\n",
    " 'quote_count',\n",
    " 'reply_count',\n",
    " 'retweet_count',\n",
    " 'favorite_count',\n",
    " 'entities',\n",
    " 'favorited',\n",
    " 'retweeted',\n",
    " 'filter_level',\n",
    " 'lang',\n",
    " 'matching_rules']]\n",
    "\n",
    "file_name = r'/content/drive/My Drive/Files/raw_files/tmobile/tmobile-test-2011-2-Feb09-raw.csv'\n",
    "df.to_csv(file_name, sep=',', encoding='utf-8')"
   ]
  }
 ],
 "metadata": {
  "colab": {
   "authorship_tag": "ABX9TyO7jReIeIdvla7oDhBvYwN+",
   "collapsed_sections": [],
   "name": "Twitter-Pull_code-T-Mobile.ipynb",
   "provenance": [
    {
     "file_id": "1JbvHrjcu2ZoATFSlGdOuwiOzQXjNuQXI",
     "timestamp": 1592352951691
    },
    {
     "file_id": "1K7AeUZkZUVvKuDf_w9Dr3JXD4Jf5AQLn",
     "timestamp": 1592312013672
    },
    {
     "file_id": "1UsE98_FTuMGraSe3ryUE_xsM6ujug6hL",
     "timestamp": 1591815796711
    }
   ]
  },
  "kernelspec": {
   "display_name": "Python 3",
   "language": "python",
   "name": "python3"
  },
  "language_info": {
   "codemirror_mode": {
    "name": "ipython",
    "version": 3
   },
   "file_extension": ".py",
   "mimetype": "text/x-python",
   "name": "python",
   "nbconvert_exporter": "python",
   "pygments_lexer": "ipython3",
   "version": "3.7.4"
  }
 },
 "nbformat": 4,
 "nbformat_minor": 1
}
