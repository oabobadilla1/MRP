{
 "cells": [
  {
   "cell_type": "code",
   "execution_count": null,
   "metadata": {
    "colab": {},
    "colab_type": "code",
    "id": "Zr2UeROco3eH"
   },
   "outputs": [],
   "source": [
    "!pip install searchtweets\n",
    "from google.colab import drive\n",
    "drive.mount('/content/drive')\n",
    "import os\n",
    "import six\n",
    "import pandas as pd\n",
    "\n",
    "os.environ[\"GOOGLE_APPLICATION_CREDENTIALS\"]=\"/content/drive/My Drive/Files/winter-cocoa-276802-380f683a2113.json\""
   ]
  },
  {
   "cell_type": "code",
   "execution_count": null,
   "metadata": {
    "colab": {
     "base_uri": "https://localhost:8080/",
     "height": 636
    },
    "colab_type": "code",
    "executionInfo": {
     "elapsed": 1552,
     "status": "ok",
     "timestamp": 1593206393050,
     "user": {
      "displayName": "Oscar Bobadilla",
      "photoUrl": "https://lh3.googleusercontent.com/a-/AOh14Ggnmb0-WJsBT3sUfAwwPdLqxAIdd3B__TGtBmOggw=s64",
      "userId": "00326088994172822743"
     },
     "user_tz": 240
    },
    "id": "f4PGSApXoqnd",
    "outputId": "563cdd01-23c8-4005-cc5b-6879c339aa98"
   },
   "outputs": [],
   "source": [
    "from searchtweets import  gen_rule_payload, load_credentials,collect_results\n",
    "\n",
    "premium_search_args = load_credentials(r\"/content/drive/My Drive/Files/twitter_keys.yaml\", account_type=\"premium\")\n",
    "\n",
    "hash_one = 'to:verizon service -verizonup \\\n",
    "-@vzwsupport -@verizonsupport -@verizonfios -@vzenterprise \\\n",
    "-(Verizon Center) -Fios -fios \\\n",
    "-@att -@sprint -@tmobile -T-Mobile -@xfinity \\\n",
    "-(metro pcs) -@metropcs -@comcast -@boostmobile \\\n",
    "-WiFi -Wi-Fi -wifi -wi-fi -cable -gigabit -routers -internet -Internet \\\n",
    "-iphone -Galaxy -S8 -S9 -(NOTE 10) -Samsung -Asus -Moto -Motorola -Android \\\n",
    "-commercial -commercials -promo -@Windows -@apple \\\n",
    "-@jtimberlake -@jetblue -@flickr -FB -@maroon5 -@nintendoamerica -@AppleMusic \\\n",
    "-@nfl -NFL -nfl -@fifaworldcup -FIFA -fifa -nba -NBA -playoffs \\\n",
    "-Trump -@realDonaldTrump -political -@GOP -GOP -discrimination -@foxandfriends -Fox -TBS \\\n",
    "-sponsored -sponsor -sponsoring \\\n",
    "-(Puerto Rico) -(AT&T Stadium) -@attstadium -@DodgersStadium -stadium \\\n",
    "-@Showtime -@STARZ -hbo -HBO -@FOXTV \\\n",
    "-(Samantha Bee) -@IvankaTrump -Ivanka -@FullFrontalSamB -@iamsambee -(SAMANTHA BEE) -(Sam B OR SAM B)\\\n",
    "-(clean energy) -@GreenAmerica -climate \\\n",
    "lang:en -is:retweet -is:verified -has:images -has:videos -has:links -has:hashtags has:profile_geo'\n",
    "\n",
    "rule = gen_rule_payload(hash_one, results_per_call=500, from_date=\"2015-01-01\", to_date=\"2019-04-01\") \n",
    "\n",
    "print(rule)\n",
    "\n",
    "tweets = collect_results(rule, \n",
    "                         max_results=500,\n",
    "                         result_stream_args=premium_search_args)\n",
    "\n",
    "[print(tweet.all_text) for tweet in tweets[0:10]]\n",
    "\n",
    "#type(tweets)\n",
    "print(len(tweets))\n",
    "df = pd.DataFrame(tweets)\n",
    "list(df)"
   ]
  },
  {
   "cell_type": "code",
   "execution_count": null,
   "metadata": {
    "colab": {},
    "colab_type": "code",
    "executionInfo": {
     "elapsed": 351,
     "status": "ok",
     "timestamp": 1593206399158,
     "user": {
      "displayName": "Oscar Bobadilla",
      "photoUrl": "https://lh3.googleusercontent.com/a-/AOh14Ggnmb0-WJsBT3sUfAwwPdLqxAIdd3B__TGtBmOggw=s64",
      "userId": "00326088994172822743"
     },
     "user_tz": 240
    },
    "id": "cWIF4MuBt8KQ"
   },
   "outputs": [],
   "source": [
    "#Change the order of the columns\n",
    "df = df[['created_at',\n",
    " 'truncated',\n",
    " 'text',\n",
    " 'source',\n",
    " 'id',\n",
    " 'id_str',\n",
    " 'in_reply_to_status_id',\n",
    " 'in_reply_to_status_id_str',\n",
    " 'in_reply_to_user_id',\n",
    " 'in_reply_to_user_id_str',\n",
    " 'in_reply_to_screen_name',\n",
    " 'user',\n",
    " 'geo',\n",
    " 'coordinates',\n",
    " 'place',\n",
    " 'contributors',\n",
    " 'is_quote_status',\n",
    " 'quote_count',\n",
    " 'reply_count',\n",
    " 'retweet_count',\n",
    " 'favorite_count',\n",
    " 'entities',\n",
    " 'favorited',\n",
    " 'retweeted',\n",
    " 'filter_level',\n",
    " 'lang'\n",
    " ]]\n",
    "\n",
    "\n",
    "file_name = r'/content/drive/My Drive/Files/verizon-test-2015-Jan-Mar-raw_2.csv'\n",
    "df.to_csv(file_name, sep=',', encoding='utf-8')"
   ]
  }
 ],
 "metadata": {
  "colab": {
   "authorship_tag": "ABX9TyOYrc2c8E3ArOKqpOLivJzy",
   "collapsed_sections": [],
   "name": "Twitter-Pull_code-Verizon.ipynb",
   "provenance": [
    {
     "file_id": "1UsE98_FTuMGraSe3ryUE_xsM6ujug6hL",
     "timestamp": 1591815796711
    }
   ]
  },
  "kernelspec": {
   "display_name": "Python 3",
   "language": "python",
   "name": "python3"
  },
  "language_info": {
   "codemirror_mode": {
    "name": "ipython",
    "version": 3
   },
   "file_extension": ".py",
   "mimetype": "text/x-python",
   "name": "python",
   "nbconvert_exporter": "python",
   "pygments_lexer": "ipython3",
   "version": "3.7.4"
  }
 },
 "nbformat": 4,
 "nbformat_minor": 1
}
