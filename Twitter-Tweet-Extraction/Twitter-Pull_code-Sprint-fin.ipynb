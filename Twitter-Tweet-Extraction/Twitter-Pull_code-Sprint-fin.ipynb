{
 "cells": [
  {
   "cell_type": "code",
   "execution_count": null,
   "metadata": {
    "colab": {
     "base_uri": "https://localhost:8080/",
     "height": 263
    },
    "colab_type": "code",
    "executionInfo": {
     "elapsed": 5976,
     "status": "ok",
     "timestamp": 1592526724898,
     "user": {
      "displayName": "Oscar Bobadilla",
      "photoUrl": "https://lh3.googleusercontent.com/a-/AOh14Ggnmb0-WJsBT3sUfAwwPdLqxAIdd3B__TGtBmOggw=s64",
      "userId": "00326088994172822743"
     },
     "user_tz": 240
    },
    "id": "Zr2UeROco3eH",
    "outputId": "260571ef-b947-4950-97c6-ec454552e815"
   },
   "outputs": [],
   "source": [
    "!pip install searchtweets\n",
    "from google.cloud import language_v1\n",
    "from google.cloud.language_v1 import enums\n",
    "from google.colab import drive\n",
    "drive.mount('/content/drive')\n",
    "import os\n",
    "import six\n",
    "import pandas as pd\n",
    "\n",
    "os.environ[\"GOOGLE_APPLICATION_CREDENTIALS\"]=\"/content/drive/My Drive/Files/winter-cocoa-276802-380f683a2113.json\""
   ]
  },
  {
   "cell_type": "code",
   "execution_count": null,
   "metadata": {
    "colab": {
     "base_uri": "https://localhost:8080/",
     "height": 558
    },
    "colab_type": "code",
    "executionInfo": {
     "elapsed": 960,
     "status": "ok",
     "timestamp": 1592536230920,
     "user": {
      "displayName": "Oscar Bobadilla",
      "photoUrl": "https://lh3.googleusercontent.com/a-/AOh14Ggnmb0-WJsBT3sUfAwwPdLqxAIdd3B__TGtBmOggw=s64",
      "userId": "00326088994172822743"
     },
     "user_tz": 240
    },
    "id": "f4PGSApXoqnd",
    "outputId": "fbd90cc3-9cca-486d-ec81-b86a30b6c06e"
   },
   "outputs": [],
   "source": [
    "from searchtweets import  gen_rule_payload, load_credentials,collect_results\n",
    "\n",
    "premium_search_args = load_credentials(r\"/content/drive/My Drive/Files/twitter_keys.yaml\", account_type=\"premium\")\n",
    "\n",
    "hash_one = 'to:sprint service -cricket -bill -payment -month -store -@sprintbusiness -@SprintCenter \\\n",
    "-@sprintcare -@sprintbusiness -Verizon -(u.s. cellular) -@sprintaccess -@sprintnews -@verizonwireless \\\n",
    "-@verizon \\\n",
    "-@att -@tmobile -@t-mobile -T-Mobile -@xfinity -(metro pcs) -@metropcs -@comcast -@boostmobile \\\n",
    "-iphone -Galaxy -S8 -S9 -(NOTE 10) -Samsung -Asus -Moto -Motorola -Android \\\n",
    "-@nfl -NFL -nfl -@fifaworldcup -FIFA -fifa -nba -NBA -playoffs \\\n",
    "-commercial -commercials -promo -FB -sponsored -sponsor -sponsoring \\\n",
    "-@Windows -@apple -@directv -directtv -directv \\\n",
    "-WiFi -Wi-Fi -wifi -wi-fi -cable -gigabit -routers -internet -Internet \\\n",
    "-@jtimberlake -@jetblue -@flickr  -@maroon5 -@nintendoamerica -@AppleMusic \\\n",
    "-@kingjames -Trump -@realDonaldTrump -political -@GOP -GOP -discrimination \\\n",
    "-@foxandfriends -Fox -TBS -@Showtime -@STARZ -hbo -HBO -@FOXTV \\\n",
    "-(Puerto Rico) -(AT&T Stadium) -@attstadium -@DodgersStadium -stadium \\\n",
    "lang:en -is:retweet -is:verified -has:images -has:videos -has:links -has:hashtags'\n",
    "\n",
    "\n",
    "rule = gen_rule_payload(hash_one, results_per_call=500, from_date=\"2012-01-01\", to_date=\"2012-03-11\") \n",
    "\n",
    "print(rule)\n",
    "\n",
    "tweets = collect_results(rule, \n",
    "                         max_results=500,\n",
    "                         result_stream_args=premium_search_args)\n",
    "print(len(tweets))\n",
    "df = pd.DataFrame(tweets)\n",
    "list(df)"
   ]
  },
  {
   "cell_type": "code",
   "execution_count": null,
   "metadata": {
    "colab": {},
    "colab_type": "code",
    "executionInfo": {
     "elapsed": 774,
     "status": "ok",
     "timestamp": 1592536233357,
     "user": {
      "displayName": "Oscar Bobadilla",
      "photoUrl": "https://lh3.googleusercontent.com/a-/AOh14Ggnmb0-WJsBT3sUfAwwPdLqxAIdd3B__TGtBmOggw=s64",
      "userId": "00326088994172822743"
     },
     "user_tz": 240
    },
    "id": "cWIF4MuBt8KQ"
   },
   "outputs": [],
   "source": [
    "#Change the order of the columns\n",
    "df = df[['created_at',\n",
    " 'text',\n",
    " 'truncated',\n",
    " 'source',\n",
    " 'id',\n",
    " 'id_str',\n",
    " 'in_reply_to_status_id',\n",
    " 'in_reply_to_status_id_str',\n",
    " 'in_reply_to_user_id',\n",
    " 'in_reply_to_user_id_str',\n",
    " 'in_reply_to_screen_name',\n",
    " 'user',\n",
    " 'geo',\n",
    " 'coordinates',\n",
    " 'place',\n",
    " 'contributors',\n",
    " 'is_quote_status',\n",
    " 'quote_count',\n",
    " 'reply_count',\n",
    " 'retweet_count',\n",
    " 'favorite_count',\n",
    " 'entities',\n",
    " 'favorited',\n",
    " 'retweeted',\n",
    " 'filter_level',\n",
    " 'lang',\n",
    " 'matching_rules']]\n",
    "\n",
    "file_name = r'/content/drive/My Drive/Files/raw_files/sprint-test-2012-Mar11-raw.csv'\n",
    "df.to_csv(file_name, sep=',', encoding='utf-8')\n"
   ]
  }
 ],
 "metadata": {
  "colab": {
   "authorship_tag": "ABX9TyPIGFyrt7ttz96EJ8D2xEld",
   "collapsed_sections": [],
   "name": "Twitter-Pull_code-Sprint.ipynb",
   "provenance": [
    {
     "file_id": "1K7AeUZkZUVvKuDf_w9Dr3JXD4Jf5AQLn",
     "timestamp": 1592526061989
    },
    {
     "file_id": "1UsE98_FTuMGraSe3ryUE_xsM6ujug6hL",
     "timestamp": 1591815796711
    }
   ]
  },
  "kernelspec": {
   "display_name": "Python 3",
   "language": "python",
   "name": "python3"
  },
  "language_info": {
   "codemirror_mode": {
    "name": "ipython",
    "version": 3
   },
   "file_extension": ".py",
   "mimetype": "text/x-python",
   "name": "python",
   "nbconvert_exporter": "python",
   "pygments_lexer": "ipython3",
   "version": "3.7.4"
  }
 },
 "nbformat": 4,
 "nbformat_minor": 1
}
