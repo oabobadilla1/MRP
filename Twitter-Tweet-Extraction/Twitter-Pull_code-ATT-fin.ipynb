{
 "cells": [
  {
   "cell_type": "code",
   "execution_count": null,
   "metadata": {
    "colab": {},
    "colab_type": "code",
    "id": "Zr2UeROco3eH"
   },
   "outputs": [],
   "source": [
    "#Install searchtweets\n",
    "!pip install searchtweets\n",
    "\n",
    "from google.colab import drive\n",
    "drive.mount('/content/drive')\n",
    "import os\n",
    "import six\n",
    "import pandas as pd\n",
    "\n",
    "os.environ[\"GOOGLE_APPLICATION_CREDENTIALS\"]=\"/content/drive/My Drive/Files/winter-cocoa-276802-380f683a2113.json\""
   ]
  },
  {
   "cell_type": "code",
   "execution_count": null,
   "metadata": {
    "colab": {
     "base_uri": "https://localhost:8080/",
     "height": 636
    },
    "colab_type": "code",
    "executionInfo": {
     "elapsed": 1733,
     "status": "ok",
     "timestamp": 1593211907559,
     "user": {
      "displayName": "Oscar Bobadilla",
      "photoUrl": "https://lh3.googleusercontent.com/a-/AOh14Ggnmb0-WJsBT3sUfAwwPdLqxAIdd3B__TGtBmOggw=s64",
      "userId": "00326088994172822743"
     },
     "user_tz": 240
    },
    "id": "f4PGSApXoqnd",
    "outputId": "112a788e-d20b-4245-a899-a96543ba3530"
   },
   "outputs": [],
   "source": [
    "from searchtweets import  gen_rule_payload, load_credentials,collect_results\n",
    "\n",
    "premium_search_args = load_credentials(r\"/content/drive/My Drive/Files/twitter_keys.yaml\", account_type=\"premium\")\n",
    "\n",
    "hash_one = 'to:att service -at&t -bill -payment -company -FB -@attjobs -@lifeatatt \\\n",
    "-@ItsOnATT -@ATTimpact -@ATTBusiness -@ATTSmallBiz -@ATTDirectv -@ATTHelloLab \\\n",
    "-@atthelp -@attcares -@ATTCustServ -@ATTTHANKS \\\n",
    "-@attsmallbusines -@ATTBusinessCare -@ATTCustomerCare \\\n",
    "-uverse -@uverse -u-verse -tv -home -install -channels -DVR \\\n",
    "-directv -directtv -@directvnow -mbps -stream -streaming \\\n",
    "-@firstnet -xfinity -carriers -sprint \\\n",
    "-@sprint -@tmobile -T-Mobile -@verizon -comcast \\\n",
    "-metro -@comcast -@FilmStruck \\\n",
    "-wifi -wi-fi -cable -modem -internet -dsl -fiber -router -broadband \\\n",
    "-iphone -Galaxy -S8 -S9 -(NOTE 10) -Samsung -Motorola -Android \\\n",
    "-commercial -commercials -promo \\\n",
    "-@nfl -NFL -nfl -nba -NBA -playoffs -CBS -CNN -Trump \\\n",
    "-stadium -advertising -(fox news) -fox \\\n",
    "-@STARZ -HBO -hbomax -@hbomax -@hbo -@warnermedia \\\n",
    "-@foxsoccer -@foxtv -@foxnews -@TNTdrama -@netflix -@DIRECTV -@directtv \\\n",
    "-@kingjames -@LenaWaithe -@socialworks -LGBTQ -@TrevorProject \\\n",
    "lang:en \\\n",
    "-is:retweet -is:verified -has:images -has:media -has:videos -has:links -has:hashtags'\n",
    "\n",
    "rule = gen_rule_payload(hash_one, results_per_call=500, from_date=\"2018-07-01\", to_date=\"2018-07-31\") \n",
    "\n",
    "print(rule)\n",
    "\n",
    "tweets = collect_results(rule, \n",
    "                         max_results=500,\n",
    "                         result_stream_args=premium_search_args)\n",
    "\n",
    "#Check Content of the Tweets\n",
    "[print(tweet.all_text) for tweet in tweets[0:10]]\n",
    "\n",
    "#type(tweets)\n",
    "print(len(tweets))\n",
    "df = pd.DataFrame(tweets)\n",
    "list(df)"
   ]
  },
  {
   "cell_type": "code",
   "execution_count": null,
   "metadata": {
    "colab": {},
    "colab_type": "code",
    "executionInfo": {
     "elapsed": 481,
     "status": "ok",
     "timestamp": 1593211909835,
     "user": {
      "displayName": "Oscar Bobadilla",
      "photoUrl": "https://lh3.googleusercontent.com/a-/AOh14Ggnmb0-WJsBT3sUfAwwPdLqxAIdd3B__TGtBmOggw=s64",
      "userId": "00326088994172822743"
     },
     "user_tz": 240
    },
    "id": "cWIF4MuBt8KQ"
   },
   "outputs": [],
   "source": [
    "#Change the order of the extracted columns\n",
    "df = df[['created_at',\n",
    " 'text',\n",
    " 'extended_tweet',\n",
    " 'display_text_range',\n",
    " 'truncated',\n",
    " 'id',\n",
    " 'id_str',\n",
    " 'source',\n",
    " 'in_reply_to_status_id',\n",
    " 'in_reply_to_status_id_str',\n",
    " 'in_reply_to_user_id',\n",
    " 'in_reply_to_user_id_str',\n",
    " 'in_reply_to_screen_name',\n",
    " 'user',\n",
    " 'geo',\n",
    " 'coordinates',\n",
    " 'place',\n",
    " 'contributors',\n",
    " 'is_quote_status',\n",
    " 'quote_count',\n",
    " 'reply_count',\n",
    " 'retweet_count',\n",
    " 'favorite_count',\n",
    " 'entities',\n",
    " 'favorited',\n",
    " 'retweeted',\n",
    " 'filter_level',\n",
    " 'lang',\n",
    " 'matching_rules']]\n",
    "\n",
    "file_name = r'/content/drive/My Drive/Files/att-test-JUL2018-raw.csv'\n",
    "df.to_csv(file_name, sep=',', encoding='utf-8')"
   ]
  }
 ],
 "metadata": {
  "colab": {
   "authorship_tag": "ABX9TyNqLvFePxeaMafiP9AxS3Vl",
   "collapsed_sections": [],
   "name": "Twitter-Pull_code-ATT.ipynb",
   "provenance": [
    {
     "file_id": "1K7AeUZkZUVvKuDf_w9Dr3JXD4Jf5AQLn",
     "timestamp": 1592312013672
    },
    {
     "file_id": "1UsE98_FTuMGraSe3ryUE_xsM6ujug6hL",
     "timestamp": 1591815796711
    }
   ]
  },
  "kernelspec": {
   "display_name": "Python 3",
   "language": "python",
   "name": "python3"
  },
  "language_info": {
   "codemirror_mode": {
    "name": "ipython",
    "version": 3
   },
   "file_extension": ".py",
   "mimetype": "text/x-python",
   "name": "python",
   "nbconvert_exporter": "python",
   "pygments_lexer": "ipython3",
   "version": "3.7.4"
  }
 },
 "nbformat": 4,
 "nbformat_minor": 1
}
